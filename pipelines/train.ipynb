{
 "cells": [
  {
   "cell_type": "code",
   "execution_count": 2,
   "id": "657a4f35-9091-4509-9897-ce71215d9c41",
   "metadata": {
    "tags": []
   },
   "outputs": [
    {
     "name": "stdout",
     "output_type": "stream",
     "text": [
      "data/\n",
      "data/dataset_validation.txt\n",
      "data/dataset_train.txt\n"
     ]
    }
   ],
   "source": [
    "!tar -vxzf data.tar.gz"
   ]
  },
  {
   "cell_type": "code",
   "execution_count": 1,
   "id": "fdec37c6-4349-4a63-bee3-e4af71601169",
   "metadata": {
    "tags": []
   },
   "outputs": [
    {
     "name": "stdout",
     "output_type": "stream",
     "text": [
      "Requirement already satisfied: datasets==1.5.0 in /opt/app-root/lib/python3.9/site-packages (from -r train.requirements.txt (line 1)) (1.5.0)\n",
      "Requirement already satisfied: transformers==4.6.0 in /opt/app-root/lib/python3.9/site-packages (from -r train.requirements.txt (line 2)) (4.6.0)\n",
      "Requirement already satisfied: xxhash in /opt/app-root/lib/python3.9/site-packages (from datasets==1.5.0->-r train.requirements.txt (line 1)) (3.4.1)\n",
      "Requirement already satisfied: requests>=2.19.0 in /opt/app-root/lib/python3.9/site-packages (from datasets==1.5.0->-r train.requirements.txt (line 1)) (2.31.0)\n",
      "Requirement already satisfied: dill in /opt/app-root/lib/python3.9/site-packages (from datasets==1.5.0->-r train.requirements.txt (line 1)) (0.3.8)\n",
      "Requirement already satisfied: multiprocess in /opt/app-root/lib/python3.9/site-packages (from datasets==1.5.0->-r train.requirements.txt (line 1)) (0.70.16)\n",
      "Requirement already satisfied: huggingface-hub<0.1.0 in /opt/app-root/lib/python3.9/site-packages (from datasets==1.5.0->-r train.requirements.txt (line 1)) (0.0.8)\n",
      "Requirement already satisfied: tqdm<4.50.0,>=4.27 in /opt/app-root/lib/python3.9/site-packages (from datasets==1.5.0->-r train.requirements.txt (line 1)) (4.49.0)\n",
      "Requirement already satisfied: pyarrow>=0.17.1 in /opt/app-root/lib/python3.9/site-packages (from datasets==1.5.0->-r train.requirements.txt (line 1)) (16.0.0)\n",
      "Requirement already satisfied: pandas in /opt/app-root/lib/python3.9/site-packages (from datasets==1.5.0->-r train.requirements.txt (line 1)) (2.2.2)\n",
      "Requirement already satisfied: fsspec in /opt/app-root/lib/python3.9/site-packages (from datasets==1.5.0->-r train.requirements.txt (line 1)) (2024.3.1)\n",
      "Requirement already satisfied: numpy>=1.17 in /opt/app-root/lib/python3.9/site-packages (from datasets==1.5.0->-r train.requirements.txt (line 1)) (1.26.4)\n",
      "Requirement already satisfied: packaging in /opt/app-root/lib/python3.9/site-packages (from transformers==4.6.0->-r train.requirements.txt (line 2)) (24.0)\n",
      "Requirement already satisfied: sacremoses in /opt/app-root/lib/python3.9/site-packages (from transformers==4.6.0->-r train.requirements.txt (line 2)) (0.1.1)\n",
      "Requirement already satisfied: filelock in /opt/app-root/lib/python3.9/site-packages (from transformers==4.6.0->-r train.requirements.txt (line 2)) (3.13.4)\n",
      "Requirement already satisfied: tokenizers<0.11,>=0.10.1 in /opt/app-root/lib/python3.9/site-packages (from transformers==4.6.0->-r train.requirements.txt (line 2)) (0.10.3)\n",
      "Requirement already satisfied: regex!=2019.12.17 in /opt/app-root/lib/python3.9/site-packages (from transformers==4.6.0->-r train.requirements.txt (line 2)) (2024.5.15)\n",
      "Requirement already satisfied: urllib3<3,>=1.21.1 in /opt/app-root/lib/python3.9/site-packages (from requests>=2.19.0->datasets==1.5.0->-r train.requirements.txt (line 1)) (1.26.18)\n",
      "Requirement already satisfied: idna<4,>=2.5 in /opt/app-root/lib/python3.9/site-packages (from requests>=2.19.0->datasets==1.5.0->-r train.requirements.txt (line 1)) (3.7)\n",
      "Requirement already satisfied: charset-normalizer<4,>=2 in /opt/app-root/lib/python3.9/site-packages (from requests>=2.19.0->datasets==1.5.0->-r train.requirements.txt (line 1)) (3.3.2)\n",
      "Requirement already satisfied: certifi>=2017.4.17 in /opt/app-root/lib/python3.9/site-packages (from requests>=2.19.0->datasets==1.5.0->-r train.requirements.txt (line 1)) (2024.2.2)\n",
      "Requirement already satisfied: python-dateutil>=2.8.2 in /opt/app-root/lib/python3.9/site-packages (from pandas->datasets==1.5.0->-r train.requirements.txt (line 1)) (2.9.0.post0)\n",
      "Requirement already satisfied: pytz>=2020.1 in /opt/app-root/lib/python3.9/site-packages (from pandas->datasets==1.5.0->-r train.requirements.txt (line 1)) (2024.1)\n",
      "Requirement already satisfied: tzdata>=2022.7 in /opt/app-root/lib/python3.9/site-packages (from pandas->datasets==1.5.0->-r train.requirements.txt (line 1)) (2024.1)\n",
      "Requirement already satisfied: click in /opt/app-root/lib/python3.9/site-packages (from sacremoses->transformers==4.6.0->-r train.requirements.txt (line 2)) (8.1.7)\n",
      "Requirement already satisfied: joblib in /opt/app-root/lib/python3.9/site-packages (from sacremoses->transformers==4.6.0->-r train.requirements.txt (line 2)) (1.4.0)\n",
      "Requirement already satisfied: six>=1.5 in /opt/app-root/lib/python3.9/site-packages (from python-dateutil>=2.8.2->pandas->datasets==1.5.0->-r train.requirements.txt (line 1)) (1.16.0)\n",
      "\n",
      "\u001b[1m[\u001b[0m\u001b[34;49mnotice\u001b[0m\u001b[1;39;49m]\u001b[0m\u001b[39;49m A new release of pip available: \u001b[0m\u001b[31;49m22.2.2\u001b[0m\u001b[39;49m -> \u001b[0m\u001b[32;49m24.0\u001b[0m\n",
      "\u001b[1m[\u001b[0m\u001b[34;49mnotice\u001b[0m\u001b[1;39;49m]\u001b[0m\u001b[39;49m To update, run: \u001b[0m\u001b[32;49mpip install --upgrade pip\u001b[0m\n",
      "Note: you may need to restart the kernel to use updated packages.\n"
     ]
    }
   ],
   "source": [
    "pip install -r train.requirements.txt"
   ]
  },
  {
   "cell_type": "code",
   "execution_count": 3,
   "id": "b7df5c2f-c1fd-424f-a571-53223833e9dd",
   "metadata": {
    "tags": []
   },
   "outputs": [
    {
     "name": "stdout",
     "output_type": "stream",
     "text": [
      "06/03/2024 13:22:16 - WARNING - __main__ -   Process rank: -1, device: cpu, n_gpu: 0distributed training: False, 16-bits training: False\n",
      "06/03/2024 13:22:16 - INFO - __main__ -   Training/evaluation parameters TrainingArguments(output_dir=.model, overwrite_output_dir=True, do_train=True, do_eval=True, do_predict=False, evaluation_strategy=IntervalStrategy.NO, prediction_loss_only=False, per_device_train_batch_size=8, per_device_eval_batch_size=8, gradient_accumulation_steps=1, eval_accumulation_steps=None, learning_rate=5e-05, weight_decay=0.0, adam_beta1=0.9, adam_beta2=0.999, adam_epsilon=1e-08, max_grad_norm=1.0, num_train_epochs=3.0, max_steps=-1, lr_scheduler_type=SchedulerType.LINEAR, warmup_ratio=0.0, warmup_steps=0, logging_dir=runs/Jun03_13-22-16_ai-text-generation-0, logging_strategy=IntervalStrategy.STEPS, logging_first_step=False, logging_steps=500, save_strategy=IntervalStrategy.STEPS, save_steps=500, save_total_limit=None, no_cuda=False, seed=42, fp16=False, fp16_opt_level=O1, fp16_backend=auto, fp16_full_eval=False, local_rank=-1, tpu_num_cores=None, tpu_metrics_debug=False, debug=[], dataloader_drop_last=False, eval_steps=500, dataloader_num_workers=0, past_index=-1, run_name=.model, disable_tqdm=False, remove_unused_columns=True, label_names=None, load_best_model_at_end=False, metric_for_best_model=None, greater_is_better=None, ignore_data_skip=False, sharded_ddp=[], deepspeed=None, label_smoothing_factor=0.0, adafactor=False, group_by_length=False, length_column_name=length, report_to=['tensorboard'], ddp_find_unused_parameters=None, dataloader_pin_memory=True, skip_memory_metrics=False, use_legacy_prediction_loop=False, push_to_hub=False, resume_from_checkpoint=None, _n_gpu=0, mp_parameters=)\n",
      "06/03/2024 13:22:16 - WARNING - datasets.builder -   Using custom data configuration default-5b987f722d3330b8\n",
      "06/03/2024 13:22:16 - WARNING - datasets.builder -   Reusing dataset text (/opt/app-root/src/.cache/huggingface/datasets/text/default-5b987f722d3330b8/0.0.0/e16f44aa1b321ece1f87b07977cc5d70be93d69b20486d6dacd62e12cf25c9a5)\n",
      "[INFO|configuration_utils.py:517] 2024-06-03 13:22:16,552 >> loading configuration file https://huggingface.co/gpt2/resolve/main/config.json from cache at /opt/app-root/src/.cache/huggingface/transformers/fc674cd6907b4c9e933cb42d67662436b89fa9540a1f40d7c919d0109289ad01.7d2e0efa5ca20cef4fb199382111e9d3ad96fd77b849e1d4bed13a66e1336f51\n",
      "[INFO|configuration_utils.py:553] 2024-06-03 13:22:16,552 >> Model config GPT2Config {\n",
      "  \"activation_function\": \"gelu_new\",\n",
      "  \"architectures\": [\n",
      "    \"GPT2LMHeadModel\"\n",
      "  ],\n",
      "  \"attn_pdrop\": 0.1,\n",
      "  \"bos_token_id\": 50256,\n",
      "  \"embd_pdrop\": 0.1,\n",
      "  \"eos_token_id\": 50256,\n",
      "  \"gradient_checkpointing\": false,\n",
      "  \"initializer_range\": 0.02,\n",
      "  \"layer_norm_epsilon\": 1e-05,\n",
      "  \"model_type\": \"gpt2\",\n",
      "  \"n_ctx\": 1024,\n",
      "  \"n_embd\": 768,\n",
      "  \"n_head\": 12,\n",
      "  \"n_inner\": null,\n",
      "  \"n_layer\": 12,\n",
      "  \"n_positions\": 1024,\n",
      "  \"resid_pdrop\": 0.1,\n",
      "  \"scale_attn_weights\": true,\n",
      "  \"summary_activation\": null,\n",
      "  \"summary_first_dropout\": 0.1,\n",
      "  \"summary_proj_to_labels\": true,\n",
      "  \"summary_type\": \"cls_index\",\n",
      "  \"summary_use_proj\": true,\n",
      "  \"task_specific_params\": {\n",
      "    \"text-generation\": {\n",
      "      \"do_sample\": true,\n",
      "      \"max_length\": 50\n",
      "    }\n",
      "  },\n",
      "  \"transformers_version\": \"4.6.0\",\n",
      "  \"use_cache\": true,\n",
      "  \"vocab_size\": 50257\n",
      "}\n",
      "\n",
      "[INFO|configuration_utils.py:517] 2024-06-03 13:22:16,611 >> loading configuration file https://huggingface.co/gpt2/resolve/main/config.json from cache at /opt/app-root/src/.cache/huggingface/transformers/fc674cd6907b4c9e933cb42d67662436b89fa9540a1f40d7c919d0109289ad01.7d2e0efa5ca20cef4fb199382111e9d3ad96fd77b849e1d4bed13a66e1336f51\n",
      "[INFO|configuration_utils.py:553] 2024-06-03 13:22:16,612 >> Model config GPT2Config {\n",
      "  \"activation_function\": \"gelu_new\",\n",
      "  \"architectures\": [\n",
      "    \"GPT2LMHeadModel\"\n",
      "  ],\n",
      "  \"attn_pdrop\": 0.1,\n",
      "  \"bos_token_id\": 50256,\n",
      "  \"embd_pdrop\": 0.1,\n",
      "  \"eos_token_id\": 50256,\n",
      "  \"gradient_checkpointing\": false,\n",
      "  \"initializer_range\": 0.02,\n",
      "  \"layer_norm_epsilon\": 1e-05,\n",
      "  \"model_type\": \"gpt2\",\n",
      "  \"n_ctx\": 1024,\n",
      "  \"n_embd\": 768,\n",
      "  \"n_head\": 12,\n",
      "  \"n_inner\": null,\n",
      "  \"n_layer\": 12,\n",
      "  \"n_positions\": 1024,\n",
      "  \"resid_pdrop\": 0.1,\n",
      "  \"scale_attn_weights\": true,\n",
      "  \"summary_activation\": null,\n",
      "  \"summary_first_dropout\": 0.1,\n",
      "  \"summary_proj_to_labels\": true,\n",
      "  \"summary_type\": \"cls_index\",\n",
      "  \"summary_use_proj\": true,\n",
      "  \"task_specific_params\": {\n",
      "    \"text-generation\": {\n",
      "      \"do_sample\": true,\n",
      "      \"max_length\": 50\n",
      "    }\n",
      "  },\n",
      "  \"transformers_version\": \"4.6.0\",\n",
      "  \"use_cache\": true,\n",
      "  \"vocab_size\": 50257\n",
      "}\n",
      "\n",
      "[INFO|tokenization_utils_base.py:1717] 2024-06-03 13:22:16,934 >> loading file https://huggingface.co/gpt2/resolve/main/vocab.json from cache at /opt/app-root/src/.cache/huggingface/transformers/684fe667923972fb57f6b4dcb61a3c92763ad89882f3da5da9866baf14f2d60f.c7ed1f96aac49e745788faa77ba0a26a392643a50bb388b9c04ff469e555241f\n",
      "[INFO|tokenization_utils_base.py:1717] 2024-06-03 13:22:16,935 >> loading file https://huggingface.co/gpt2/resolve/main/merges.txt from cache at /opt/app-root/src/.cache/huggingface/transformers/c0c761a63004025aeadd530c4c27b860ec4ecbe8a00531233de21d865a402598.5d12962c5ee615a4c803841266e9c3be9a691a924f72d395d3a6c6c81157788b\n",
      "[INFO|tokenization_utils_base.py:1717] 2024-06-03 13:22:16,935 >> loading file https://huggingface.co/gpt2/resolve/main/tokenizer.json from cache at /opt/app-root/src/.cache/huggingface/transformers/16a2f78023c8dc511294f0c97b5e10fde3ef9889ad6d11ffaa2a00714e73926e.cf2d0ecb83b6df91b3dbb53f1d1e4c311578bfd3aa0e04934215a49bf9898df0\n",
      "[INFO|tokenization_utils_base.py:1717] 2024-06-03 13:22:16,935 >> loading file https://huggingface.co/gpt2/resolve/main/added_tokens.json from cache at None\n",
      "[INFO|tokenization_utils_base.py:1717] 2024-06-03 13:22:16,935 >> loading file https://huggingface.co/gpt2/resolve/main/special_tokens_map.json from cache at None\n",
      "[INFO|tokenization_utils_base.py:1717] 2024-06-03 13:22:16,935 >> loading file https://huggingface.co/gpt2/resolve/main/tokenizer_config.json from cache at /opt/app-root/src/.cache/huggingface/transformers/b105cf342574b32b2f8d5ea86c4845f46d8162160345fd0c85bd9ca3bc5cc48e.67d01b18f2079bd75eac0b2f2e7235768c7f26bd728e7a855a1c5acae01a91a8\n",
      "[INFO|modeling_utils.py:1155] 2024-06-03 13:22:17,070 >> loading weights file https://huggingface.co/gpt2/resolve/main/pytorch_model.bin from cache at /opt/app-root/src/.cache/huggingface/transformers/752929ace039baa8ef70fe21cdf9ab9445773d20e733cf693d667982e210837e.323c769945a351daa25546176f8208b3004b6f563438a7603e7932bae9025925\n"
     ]
    }
   ],
   "source": [
    "!python ai-text-generation/train_clm.py \\\n",
    "    --model_name_or_path gpt2 \\\n",
    "    --train_file data/dataset_train.txt \\\n",
    "    --validation_file data/dataset_validation.txt \\\n",
    "    --do_train \\\n",
    "    --do_eval \\\n",
    "    --use_fast_tokenizer \\\n",
    "    --overwrite_output_dir \\\n",
    "    --output_dir .model \\\n",
    "    --per_device_eval_batch_size 20 \\\n",
    "    --per_device_train_batch_size 5 \\\n",
    "    --num_train_epochs 10 \\\n",
    "    --block_size 256 \\\n",
    "    --save_steps 2000"
   ]
  },
  {
   "cell_type": "code",
   "execution_count": null,
   "id": "313d3daa-7df3-47b9-b906-312564715470",
   "metadata": {},
   "outputs": [],
   "source": []
  }
 ],
 "metadata": {
  "kernelspec": {
   "display_name": "Python 3.9",
   "language": "python",
   "name": "python3"
  },
  "language_info": {
   "codemirror_mode": {
    "name": "ipython",
    "version": 3
   },
   "file_extension": ".py",
   "mimetype": "text/x-python",
   "name": "python",
   "nbconvert_exporter": "python",
   "pygments_lexer": "ipython3",
   "version": "3.9.18"
  }
 },
 "nbformat": 4,
 "nbformat_minor": 5
}
