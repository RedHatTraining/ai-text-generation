{
 "cells": [
  {
   "cell_type": "markdown",
   "id": "f2b51839-c274-4321-b8cc-868ed6a3b595",
   "metadata": {},
   "source": [
    "# Pipeline Step 1\n",
    "\n",
    "Clone RH Training repositories"
   ]
  },
  {
   "cell_type": "code",
   "execution_count": 1,
   "id": "bfcaca99-6b02-49af-8dd0-bb502a1d859c",
   "metadata": {
    "tags": []
   },
   "outputs": [],
   "source": [
    "import os\n",
    "import boto3\n",
    "from pathlib import Path"
   ]
  },
  {
   "cell_type": "code",
   "execution_count": null,
   "id": "b04f5f81-1e29-4017-9526-55ac070e1039",
   "metadata": {
    "tags": []
   },
   "outputs": [],
   "source": [
    "COURSES_FILE = os.getenv(\"COURSES_FILE\", \"projects.csv\")\n",
    "GIT_USERNAME = os.getenv(\"GIT_USERNAME\")\n",
    "GIT_TOKEN = os.getenv(\"GIT_TOKEN\")\n",
    "\n",
    "s3_endpoint_url = os.environ.get(\"AWS_S3_ENDPOINT\")\n",
    "s3_access_key = os.environ.get(\"AWS_ACCESS_KEY_ID\")\n",
    "s3_secret_key = os.environ.get(\"AWS_SECRET_ACCESS_KEY\")\n",
    "s3_bucket_name = os.environ.get(\"AWS_S3_BUCKET\")\n",
    "\n",
    "if not (GIT_USERNAME and GIT_TOKEN):\n",
    "    raise RuntimeError(\n",
    "        \"You must provide the GIT_USERNAME and GIT_TOKEN environment variables\"\n",
    "    )"
   ]
  },
  {
   "cell_type": "code",
   "execution_count": null,
   "id": "e336f187-22e7-4078-8368-a819fb75297d",
   "metadata": {
    "tags": []
   },
   "outputs": [],
   "source": [
    "projects_file = Path(COURSES_FILE)\n",
    "\n",
    "if projects_file.exists():\n",
    "    print(f\"Using existing {COURSES_FILE})\n",
    "else:\n",
    "    print(\n",
    "        f\"Downloading {COURSES_FILE} file\"\n",
    "        f'from bucket \"{s3_bucket_name}\" '\n",
    "        f\"from S3 storage at {s3_endpoint_url}\"\n",
    "    )\n",
    "\n",
    "    s3_client = boto3.client(\n",
    "        \"s3\",\n",
    "        endpoint_url=s3_endpoint_url,\n",
    "        aws_access_key_id=s3_access_key,\n",
    "        aws_secret_access_key=s3_secret_key,\n",
    "    )\n",
    "\n",
    "    s3_client.download_file(s3_bucket_name, COURSES_FILE, \"projects.csv\")"
   ]
  },
  {
   "cell_type": "code",
   "execution_count": null,
   "id": "3dcd8baf-e8d3-45fb-b12b-c027f9f5a628",
   "metadata": {
    "tags": []
   },
   "outputs": [],
   "source": [
    "# Use this command if you want to inject an SSH key\n",
    "#!echo ${KNOWN_HOSTS} > ${HOME}/.ssh/known_hosts && echo \"${GITHUB_PRIVATE_KEY}\" > ${HOME}/.ssh/id_rsa && chmod 600 ${HOME}/.ssh/id_rsa"
   ]
  },
  {
   "cell_type": "code",
   "execution_count": null,
   "id": "d563f0d9-3c6c-464c-b1c1-caa353907129",
   "metadata": {
    "tags": []
   },
   "outputs": [],
   "source": [
    "!clone-courses -u $GIT_USERNAME -p $GIT_TOKEN --shallow projects.csv courses"
   ]
  },
  {
   "cell_type": "code",
   "execution_count": 6,
   "id": "814069cb-85a6-4e73-964a-906935d56318",
   "metadata": {
    "tags": []
   },
   "outputs": [],
   "source": [
    "!tar --exclude='*/.git' -czf courses.tar.gz courses"
   ]
  }
 ],
 "metadata": {
  "kernelspec": {
   "display_name": "Python 3.9",
   "language": "python",
   "name": "python3"
  },
  "language_info": {
   "codemirror_mode": {
    "name": "ipython",
    "version": 3
   },
   "file_extension": ".py",
   "mimetype": "text/x-python",
   "name": "python",
   "nbconvert_exporter": "python",
   "pygments_lexer": "ipython3",
   "version": "3.9.18"
  }
 },
 "nbformat": 4,
 "nbformat_minor": 5
}
