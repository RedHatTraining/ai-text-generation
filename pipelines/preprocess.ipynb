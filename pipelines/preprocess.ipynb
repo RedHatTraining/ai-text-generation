{
 "cells": [
  {
   "cell_type": "markdown",
   "id": "7744d8a9-3baa-4430-96a5-91e61b0743a0",
   "metadata": {},
   "source": [
    "# Preprocess AsciiDoc files"
   ]
  },
  {
   "cell_type": "code",
   "execution_count": null,
   "id": "1d08cc77-1373-4b0c-9f2a-b738f92f7e4a",
   "metadata": {
    "tags": []
   },
   "outputs": [],
   "source": [
    "!tar -xzf courses.tar.gz"
   ]
  },
  {
   "cell_type": "code",
   "execution_count": null,
   "id": "241077a1-7dc8-4102-bb0a-615ac021c32a",
   "metadata": {
    "tags": []
   },
   "outputs": [],
   "source": [
    "!ls -l courses"
   ]
  },
  {
   "cell_type": "code",
   "execution_count": null,
   "id": "2c67d23a-001e-4a7b-b10a-5b416a1b3425",
   "metadata": {
    "tags": []
   },
   "outputs": [],
   "source": [
    "!mkdir -p data"
   ]
  },
  {
   "cell_type": "code",
   "execution_count": null,
   "id": "b773bd8b-fa86-447d-b17a-36e9be87cea5",
   "metadata": {},
   "outputs": [],
   "source": [
    "import sys\n",
    "sys.path.append(\"ai-text-generation\")\n",
    "\n",
    "import build_dataset"
   ]
  },
  {
   "cell_type": "code",
   "execution_count": null,
   "id": "6732b157-0028-4e02-a076-cb2db895d822",
   "metadata": {
    "tags": []
   },
   "outputs": [],
   "source": [
    "!tar --exclude='*/.ipynb_checkpoints' -czvf data.tar.gz data"
   ]
  }
 ],
 "metadata": {
  "kernelspec": {
   "display_name": "Python 3.9",
   "language": "python",
   "name": "python3"
  },
  "language_info": {
   "codemirror_mode": {
    "name": "ipython",
    "version": 3
   },
   "file_extension": ".py",
   "mimetype": "text/x-python",
   "name": "python",
   "nbconvert_exporter": "python",
   "pygments_lexer": "ipython3",
   "version": "3.9.18"
  }
 },
 "nbformat": 4,
 "nbformat_minor": 5
}
