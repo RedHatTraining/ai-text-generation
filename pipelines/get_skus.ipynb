{
 "cells": [
  {
   "cell_type": "code",
   "execution_count": 1,
   "id": "5270af05-1bef-4e76-8bc8-dd53ccd8b203",
   "metadata": {
    "tags": []
   },
   "outputs": [
    {
     "name": "stdout",
     "output_type": "stream",
     "text": [
      "Requirement already satisfied: sqlalchemy~=2.0.30 in /opt/app-root/lib/python3.9/site-packages (2.0.30)\n",
      "Requirement already satisfied: psycopg2-binary~=2.9.9 in /opt/app-root/lib/python3.9/site-packages (2.9.9)\n",
      "Requirement already satisfied: greenlet!=0.4.17 in /opt/app-root/lib/python3.9/site-packages (from sqlalchemy~=2.0.30) (3.0.3)\n",
      "Requirement already satisfied: typing-extensions>=4.6.0 in /opt/app-root/lib/python3.9/site-packages (from sqlalchemy~=2.0.30) (4.11.0)\n",
      "\n",
      "\u001b[1m[\u001b[0m\u001b[34;49mnotice\u001b[0m\u001b[1;39;49m]\u001b[0m\u001b[39;49m A new release of pip available: \u001b[0m\u001b[31;49m22.2.2\u001b[0m\u001b[39;49m -> \u001b[0m\u001b[32;49m24.0\u001b[0m\n",
      "\u001b[1m[\u001b[0m\u001b[34;49mnotice\u001b[0m\u001b[1;39;49m]\u001b[0m\u001b[39;49m To update, run: \u001b[0m\u001b[32;49mpip install --upgrade pip\u001b[0m\n",
      "Note: you may need to restart the kernel to use updated packages.\n"
     ]
    }
   ],
   "source": [
    "pip install sqlalchemy~=2.0.30 psycopg2-binary~=2.9.9"
   ]
  },
  {
   "cell_type": "code",
   "execution_count": 5,
   "id": "d0933d89-dac7-47ed-b91a-fd3323d4b58b",
   "metadata": {
    "tags": []
   },
   "outputs": [],
   "source": [
    "import os\n",
    "from projects import get_active_skus"
   ]
  },
  {
   "cell_type": "code",
   "execution_count": 6,
   "id": "ffcd42d0-4754-4c75-ad64-6c15309194da",
   "metadata": {
    "tags": []
   },
   "outputs": [
    {
     "data": {
      "text/html": [
       "<div>\n",
       "<style scoped>\n",
       "    .dataframe tbody tr th:only-of-type {\n",
       "        vertical-align: middle;\n",
       "    }\n",
       "\n",
       "    .dataframe tbody tr th {\n",
       "        vertical-align: top;\n",
       "    }\n",
       "\n",
       "    .dataframe thead th {\n",
       "        text-align: right;\n",
       "    }\n",
       "</style>\n",
       "<table border=\"1\" class=\"dataframe\">\n",
       "  <thead>\n",
       "    <tr style=\"text-align: right;\">\n",
       "      <th></th>\n",
       "      <th>SKU</th>\n",
       "      <th>Team</th>\n",
       "    </tr>\n",
       "  </thead>\n",
       "  <tbody>\n",
       "    <tr>\n",
       "      <th>0</th>\n",
       "      <td>AD141</td>\n",
       "      <td>OpenShift Application Development</td>\n",
       "    </tr>\n",
       "    <tr>\n",
       "      <th>1</th>\n",
       "      <td>AD183</td>\n",
       "      <td>OpenShift Application Development</td>\n",
       "    </tr>\n",
       "    <tr>\n",
       "      <th>2</th>\n",
       "      <td>AD221</td>\n",
       "      <td>OpenShift Application Development</td>\n",
       "    </tr>\n",
       "    <tr>\n",
       "      <th>3</th>\n",
       "      <td>AD248</td>\n",
       "      <td>OpenShift Application Development</td>\n",
       "    </tr>\n",
       "    <tr>\n",
       "      <th>4</th>\n",
       "      <td>AD348</td>\n",
       "      <td>OpenShift Application Development</td>\n",
       "    </tr>\n",
       "  </tbody>\n",
       "</table>\n",
       "</div>"
      ],
      "text/plain": [
       "     SKU                                Team\n",
       "0  AD141  OpenShift Application Development \n",
       "1  AD183  OpenShift Application Development \n",
       "2  AD221  OpenShift Application Development \n",
       "3  AD248  OpenShift Application Development \n",
       "4  AD348  OpenShift Application Development "
      ]
     },
     "execution_count": 6,
     "metadata": {},
     "output_type": "execute_result"
    }
   ],
   "source": [
    "skus = get_active_skus(\n",
    "    username=os.getenv(\"DB_USERNAME\"),\n",
    "    password=os.getenv(\"DB_PASSWORD\"),\n",
    "    hostname=os.getenv(\"DB_HOST\"),\n",
    "    port=os.getenv(\"DB_PORT\"),\n",
    "    dbname=os.getenv(\"DB_NAME\")\n",
    ")\n",
    "skus.head()"
   ]
  },
  {
   "cell_type": "code",
   "execution_count": 7,
   "id": "9648c26d-7490-467e-903b-92d07d128e29",
   "metadata": {
    "tags": []
   },
   "outputs": [],
   "source": [
    "skus.to_csv(\"projects.csv\", index=False)"
   ]
  }
 ],
 "metadata": {
  "kernelspec": {
   "display_name": "Python 3.9",
   "language": "python",
   "name": "python3"
  },
  "language_info": {
   "codemirror_mode": {
    "name": "ipython",
    "version": 3
   },
   "file_extension": ".py",
   "mimetype": "text/x-python",
   "name": "python",
   "nbconvert_exporter": "python",
   "pygments_lexer": "ipython3",
   "version": "3.9.18"
  }
 },
 "nbformat": 4,
 "nbformat_minor": 5
}
